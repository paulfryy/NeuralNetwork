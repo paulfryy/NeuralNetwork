{
 "cells": [
  {
   "cell_type": "markdown",
   "metadata": {},
   "source": [
    "## Neural Networks"
   ]
  },
  {
   "cell_type": "code",
   "execution_count": 67,
   "metadata": {},
   "outputs": [],
   "source": [
    "from sklearn.neural_network import MLPClassifier\n",
    "from sklearn.model_selection import train_test_split\n",
    "import pandas as pd\n",
    "import numpy as np\n",
    "import graphviz\n",
    "import time\n",
    "from sklearn import preprocessing\n"
   ]
  },
  {
   "cell_type": "markdown",
   "metadata": {},
   "source": [
    "### Cars"
   ]
  },
  {
   "cell_type": "code",
   "execution_count": 54,
   "metadata": {},
   "outputs": [
    {
     "name": "stdout",
     "output_type": "stream",
     "text": [
      "<class 'pandas.core.frame.DataFrame'>\n"
     ]
    }
   ],
   "source": [
    "address = 'C:/Users/Paul/Documents/Actuarial Science/Computer Science/CS 390/car.csv'\n",
    "cars = pd.read_csv(address)\n",
    "print(type(cars))"
   ]
  },
  {
   "cell_type": "code",
   "execution_count": 55,
   "metadata": {},
   "outputs": [],
   "source": [
    "le = preprocessing.LabelEncoder()\n",
    "price= le.fit_transform(cars.iloc[:,0])\n",
    "condition = le.fit_transform(cars.iloc[:,1])\n",
    "doors = le.fit_transform(cars.iloc[:,2])\n",
    "passengers = le.fit_transform(cars.iloc[:,3])\n",
    "lugboot = le.fit_transform(cars.iloc[:,4])\n",
    "safety = le.fit_transform(cars.iloc[:,5])\n",
    "classValue = le.fit_transform(cars.iloc[:,6])\n",
    "\n",
    "cars.columns=['Buying Price','Condition','Doors','Persons','Lugboot','Safety','Class Value']\n",
    "X_cars = list(zip(price,condition,doors,passengers,lugboot,safety))\n",
    "y_cars = classValue\n"
   ]
  },
  {
   "cell_type": "code",
   "execution_count": 56,
   "metadata": {},
   "outputs": [],
   "source": [
    "clf_cars = MLPClassifier(solver='lbfgs', alpha=1e-5, random_state=42)\n",
    "X_train_cars,X_test_cars,y_train_cars,y_test_cars=train_test_split(X_cars,y_cars,test_size=0.7,random_state=42)"
   ]
  },
  {
   "cell_type": "code",
   "execution_count": 57,
   "metadata": {},
   "outputs": [
    {
     "name": "stdout",
     "output_type": "stream",
     "text": [
      "Classificaton accuracy on training set 100.0 %\n",
      "Classificaton accuracy on test set 91.3151364764268 %\n"
     ]
    }
   ],
   "source": [
    "clf_cars.fit(X_train_cars,y_train_cars)\n",
    "accu_train_cars=np.sum(clf_cars.predict(X_train_cars)==y_train_cars)/float(y_train_cars.size)*100\n",
    "accu_test_cars=np.sum(clf_cars.predict(X_test_cars)==y_test_cars)/float(y_test_cars.size)*100\n",
    "print(\"Classificaton accuracy on training set\", accu_train_cars, \"%\")\n",
    "print(\"Classificaton accuracy on test set\", accu_test_cars, \"%\")"
   ]
  },
  {
   "cell_type": "markdown",
   "metadata": {},
   "source": [
    "### Weather"
   ]
  },
  {
   "cell_type": "code",
   "execution_count": 58,
   "metadata": {},
   "outputs": [
    {
     "name": "stdout",
     "output_type": "stream",
     "text": [
      "(16630, 14)\n"
     ]
    }
   ],
   "source": [
    "address2 = 'C:/Users/Paul/Documents/Actuarial Science/Computer Science/CS 390/weather.csv'\n",
    "weather = pd.read_csv(address2)\n",
    "print(weather.shape)"
   ]
  },
  {
   "cell_type": "code",
   "execution_count": 59,
   "metadata": {},
   "outputs": [],
   "source": [
    "cityCode= le.fit_transform(weather.iloc[:,2])\n",
    "windDirection = le.fit_transform(weather.iloc[:,3])\n",
    "month = le.fit_transform(weather.iloc[:,8])\n",
    "precip = le.fit_transform(weather.iloc[:,9])\n",
    "windSpeed = le.fit_transform(weather.iloc[:,10])\n",
    "state = le.fit_transform(weather.iloc[:,11])\n",
    "week = le.fit_transform(weather.iloc[:,12])\n",
    "year = le.fit_transform(weather.iloc[:,13])\n",
    "\n",
    "#df.iloc[:,0] = df.column_name.astype(np.int64)\n",
    "avgTemp = le.fit_transform(weather.iloc[:,0])\n"
   ]
  },
  {
   "cell_type": "code",
   "execution_count": 60,
   "metadata": {},
   "outputs": [],
   "source": [
    "X_weather = list(zip(cityCode,month,precip,state,week,year,windDirection,windSpeed))\n",
    "y_weather= weather.iloc[:,0]"
   ]
  },
  {
   "cell_type": "code",
   "execution_count": 69,
   "metadata": {},
   "outputs": [],
   "source": [
    "clf_weather = MLPClassifier(solver='adam')\n",
    "X_train_weather, X_test_weather, y_train_weather, y_test_weather = train_test_split(X_weather, y_weather, test_size = 0.2, random_state=413)"
   ]
  },
  {
   "cell_type": "code",
   "execution_count": 70,
   "metadata": {},
   "outputs": [
    {
     "name": "stdout",
     "output_type": "stream",
     "text": [
      "Classificaton accuracy on training set 38.469633193024656 %\n",
      "Classificaton accuracy on test set 36.079374624173184 %\n",
      "Execution time: 31.92398500442505 seconds\n"
     ]
    },
    {
     "name": "stderr",
     "output_type": "stream",
     "text": [
      "C:\\ProgramData\\Anaconda3\\lib\\site-packages\\sklearn\\neural_network\\multilayer_perceptron.py:562: ConvergenceWarning: Stochastic Optimizer: Maximum iterations (200) reached and the optimization hasn't converged yet.\n",
      "  % self.max_iter, ConvergenceWarning)\n"
     ]
    }
   ],
   "source": [
    "t0 = time.time()\n",
    "\n",
    "clf_weather.fit(X_train_weather,y_train_weather)\n",
    "accu_train_weather=np.sum(abs(clf_weather.predict(X_train_weather)-y_train_weather)<=5)/float(y_train_weather.size)*100\n",
    "accu_test_weather=np.sum(abs(clf_weather.predict(X_test_weather)-y_test_weather)<=5)/float(y_test_weather.size)*100\n",
    "print(\"Classificaton accuracy on training set\", accu_train_weather, \"%\")\n",
    "print(\"Classificaton accuracy on test set\", accu_test_weather, \"%\")\n",
    "t1 = time.time()\n",
    "total = t1-t0\n",
    "print(\"Execution time: \" + str(total) + \" seconds\")\n",
    "\n"
   ]
  },
  {
   "cell_type": "code",
   "execution_count": null,
   "metadata": {},
   "outputs": [],
   "source": []
  },
  {
   "cell_type": "code",
   "execution_count": null,
   "metadata": {},
   "outputs": [],
   "source": []
  }
 ],
 "metadata": {
  "kernelspec": {
   "display_name": "Python 3",
   "language": "python",
   "name": "python3"
  },
  "language_info": {
   "codemirror_mode": {
    "name": "ipython",
    "version": 3
   },
   "file_extension": ".py",
   "mimetype": "text/x-python",
   "name": "python",
   "nbconvert_exporter": "python",
   "pygments_lexer": "ipython3",
   "version": "3.7.1"
  }
 },
 "nbformat": 4,
 "nbformat_minor": 2
}
